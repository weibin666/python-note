{
 "cells": [
  {
   "cell_type": "code",
   "execution_count": 1,
   "id": "julian-plenty",
   "metadata": {},
   "outputs": [],
   "source": [
    "import re\n"
   ]
  },
  {
   "cell_type": "code",
   "execution_count": 2,
   "id": "metallic-stretch",
   "metadata": {},
   "outputs": [
    {
     "data": {
      "text/plain": [
       "['ab', 'ab']"
      ]
     },
     "execution_count": 2,
     "metadata": {},
     "output_type": "execute_result"
    }
   ],
   "source": [
    "re.findall('ab',\"abcdefabcd\")"
   ]
  },
  {
   "cell_type": "code",
   "execution_count": 4,
   "id": "concerned-police",
   "metadata": {},
   "outputs": [
    {
     "name": "stdout",
     "output_type": "stream",
     "text": [
      "['com']\n"
     ]
    }
   ],
   "source": [
    "list01=re.findall('com|cn',\"www.baidu.com/www.tmooc\")\n",
    "print(list01)"
   ]
  },
  {
   "cell_type": "code",
   "execution_count": 5,
   "id": "medieval-preliminary",
   "metadata": {},
   "outputs": [
    {
     "data": {
      "text/plain": [
       "['张三丰', '张四丰', '张五丰']"
      ]
     },
     "execution_count": 5,
     "metadata": {},
     "output_type": "execute_result"
    }
   ],
   "source": [
    "re.findall('张.丰',\"张三丰,张四丰,张五丰\")"
   ]
  },
  {
   "cell_type": "code",
   "execution_count": 6,
   "id": "pacific-chess",
   "metadata": {},
   "outputs": [
    {
     "data": {
      "text/plain": [
       "['o', 'a', 'e', 'o', 'u']"
      ]
     },
     "execution_count": 6,
     "metadata": {},
     "output_type": "execute_result"
    }
   ],
   "source": [
    "re.findall('[aeiou]',\"How are you!\")"
   ]
  },
  {
   "cell_type": "code",
   "execution_count": 7,
   "id": "understanding-major",
   "metadata": {},
   "outputs": [
    {
     "data": {
      "text/plain": [
       "['a', 'e', '!']"
      ]
     },
     "execution_count": 7,
     "metadata": {},
     "output_type": "execute_result"
    }
   ],
   "source": [
    "re.findall('[!a-m]',\"How are you!\")"
   ]
  },
  {
   "cell_type": "code",
   "execution_count": 9,
   "id": "natural-collaboration",
   "metadata": {},
   "outputs": [
    {
     "data": {
      "text/plain": [
       "['a', 'e']"
      ]
     },
     "execution_count": 9,
     "metadata": {},
     "output_type": "execute_result"
    }
   ],
   "source": [
    "re.findall('[a-m]',\"How are you!\")"
   ]
  },
  {
   "cell_type": "code",
   "execution_count": 11,
   "id": "intended-likelihood",
   "metadata": {},
   "outputs": [
    {
     "data": {
      "text/plain": [
       "['U', 's', 'e', ' ', ' ', 'p', 'o', 'r', 't']"
      ]
     },
     "execution_count": 11,
     "metadata": {},
     "output_type": "execute_result"
    }
   ],
   "source": [
    "re.findall('[^0-9]',\"Use 007 port\")"
   ]
  },
  {
   "cell_type": "code",
   "execution_count": 12,
   "id": "religious-diana",
   "metadata": {},
   "outputs": [
    {
     "data": {
      "text/plain": [
       "['Jame']"
      ]
     },
     "execution_count": 12,
     "metadata": {},
     "output_type": "execute_result"
    }
   ],
   "source": [
    "re.findall('^Jame',\"Jame,hello\")"
   ]
  },
  {
   "cell_type": "code",
   "execution_count": 13,
   "id": "permanent-tokyo",
   "metadata": {},
   "outputs": [
    {
     "data": {
      "text/plain": [
       "['Jame']"
      ]
     },
     "execution_count": 13,
     "metadata": {},
     "output_type": "execute_result"
    }
   ],
   "source": [
    "re.findall('Jame',\"Jame,hello\")"
   ]
  },
  {
   "cell_type": "code",
   "execution_count": 14,
   "id": "english-american",
   "metadata": {},
   "outputs": [
    {
     "data": {
      "text/plain": [
       "['Jame']"
      ]
     },
     "execution_count": 14,
     "metadata": {},
     "output_type": "execute_result"
    }
   ],
   "source": [
    "re.findall('Jame$',\"Hi,Jame\")"
   ]
  },
  {
   "cell_type": "code",
   "execution_count": 15,
   "id": "passive-coating",
   "metadata": {},
   "outputs": [
    {
     "data": {
      "text/plain": [
       "[]"
      ]
     },
     "execution_count": 15,
     "metadata": {},
     "output_type": "execute_result"
    }
   ],
   "source": [
    "re.findall('Jame$',\"Hi,Jame,how are you\")"
   ]
  },
  {
   "cell_type": "code",
   "execution_count": 16,
   "id": "respiratory-omaha",
   "metadata": {},
   "outputs": [
    {
     "data": {
      "text/plain": [
       "[]"
      ]
     },
     "execution_count": 16,
     "metadata": {},
     "output_type": "execute_result"
    }
   ],
   "source": [
    "re.findall('^Jame$',\"Hi,Jame,how are you\")"
   ]
  },
  {
   "cell_type": "code",
   "execution_count": 17,
   "id": "modern-installation",
   "metadata": {},
   "outputs": [
    {
     "data": {
      "text/plain": [
       "['Jame']"
      ]
     },
     "execution_count": 17,
     "metadata": {},
     "output_type": "execute_result"
    }
   ],
   "source": [
    "re.findall('^Jame$',\"Jame\")"
   ]
  },
  {
   "cell_type": "code",
   "execution_count": 18,
   "id": "static-runner",
   "metadata": {},
   "outputs": [
    {
     "data": {
      "text/plain": [
       "['wooooo', 'w']"
      ]
     },
     "execution_count": 18,
     "metadata": {},
     "output_type": "execute_result"
    }
   ],
   "source": [
    "re.findall('wo*',\"wooooo~~w!\")"
   ]
  },
  {
   "cell_type": "code",
   "execution_count": 19,
   "id": "hundred-provider",
   "metadata": {},
   "outputs": [
    {
     "data": {
      "text/plain": [
       "['', 'ooooo', '', '', '', '', '']"
      ]
     },
     "execution_count": 19,
     "metadata": {},
     "output_type": "execute_result"
    }
   ],
   "source": [
    "re.findall('o*',\"wooooo~~w!\")"
   ]
  },
  {
   "cell_type": "code",
   "execution_count": 20,
   "id": "cooperative-plasma",
   "metadata": {},
   "outputs": [
    {
     "data": {
      "text/plain": [
       "['', '', '', '', '2006', '', '8', '', '8', '']"
      ]
     },
     "execution_count": 20,
     "metadata": {},
     "output_type": "execute_result"
    }
   ],
   "source": [
    "re.findall('[0-9]*',\"我的生日2006-8-8\")"
   ]
  },
  {
   "cell_type": "code",
   "execution_count": 21,
   "id": "false-doctrine",
   "metadata": {},
   "outputs": [
    {
     "data": {
      "text/plain": [
       "['Hello', 'World']"
      ]
     },
     "execution_count": 21,
     "metadata": {},
     "output_type": "execute_result"
    }
   ],
   "source": [
    "re.findall('[A-Z][a-z]+',\"Hello World\")"
   ]
  },
  {
   "cell_type": "code",
   "execution_count": null,
   "id": "suburban-click",
   "metadata": {},
   "outputs": [],
   "source": [
    "re.findall('')"
   ]
  }
 ],
 "metadata": {
  "kernelspec": {
   "display_name": "Python 3",
   "language": "python",
   "name": "python3"
  },
  "language_info": {
   "codemirror_mode": {
    "name": "ipython",
    "version": 3
   },
   "file_extension": ".py",
   "mimetype": "text/x-python",
   "name": "python",
   "nbconvert_exporter": "python",
   "pygments_lexer": "ipython3",
   "version": "3.7.0"
  }
 },
 "nbformat": 4,
 "nbformat_minor": 5
}
